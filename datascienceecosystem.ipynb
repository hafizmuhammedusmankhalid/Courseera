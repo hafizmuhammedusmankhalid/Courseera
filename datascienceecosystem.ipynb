{
  "cells": [
    {
      "cell_type": "markdown",
      "metadata": {
        "collapsed": true,
        "id": "aPNb_dm_jpgJ"
      },
      "source": [
        "# Data Science Tools and Ecosystem"
      ]
    },
    {
      "cell_type": "markdown",
      "metadata": {
        "id": "lCPSexHLjpgL"
      },
      "source": [
        "In this notebook, Data Science Tools and Ecosystem are summarized.\n"
      ]
    },
    {
      "cell_type": "markdown",
      "metadata": {
        "id": "LaKn14k0jpgM"
      },
      "source": [
        "**Some of the popular languages that Data Scientists use are:**\n",
        "1. python\n",
        "2. SQL\n",
        "3. R"
      ]
    },
    {
      "cell_type": "markdown",
      "metadata": {
        "id": "wJAXb4uGjpgM"
      },
      "source": [
        "**Some of the commonly used libraries used by Data Scientists include:**\n",
        "\n",
        " 1. TensorFlow.\n",
        " 2. SciPy.\n",
        " 3. NumPy.\n",
        " 4. Pandas.\n",
        " 5. Pytorch"
      ]
    },
    {
      "cell_type": "markdown",
      "metadata": {
        "id": "NVVofyBcjpgM"
      },
      "source": [
        "**Data Science Tools**\n",
        "|Data Science Tools|\n",
        "|-|\n",
        "|Jupyter Notebook|\n",
        "|RStudio|\n",
        "|Apache Spark|\n"
      ]
    },
    {
      "cell_type": "markdown",
      "metadata": {
        "id": "VWjEq6ehjpgN"
      },
      "source": [
        "### Below are a few examples of evaluating arithmetic expressions in Python.\n"
      ]
    },
    {
      "cell_type": "code",
      "execution_count": null,
      "metadata": {
        "id": "IlZjfnRMjpgN",
        "outputId": "083326d1-4bce-4c8d-db60-699009487396"
      },
      "outputs": [
        {
          "name": "stdout",
          "output_type": "stream",
          "text": "17\nTrue\n"
        }
      ],
      "source": [
        "# This a simple arithmetic expression to mutiply then add integers\n",
        "eval = (3*4)+5\n",
        "print(eval)\n",
        "print(eval==17)"
      ]
    },
    {
      "cell_type": "code",
      "execution_count": null,
      "metadata": {
        "id": "ufPU6klkjpgO",
        "outputId": "c1eda327-b572-429f-9c81-60fedb3e6428"
      },
      "outputs": [
        {
          "name": "stdout",
          "output_type": "stream",
          "text": "33.333333333333336\n"
        }
      ],
      "source": [
        "# This will convert 200 minutes to hours by diving by 60\n",
        "print(200 / 6)"
      ]
    },
    {
      "cell_type": "markdown",
      "metadata": {
        "id": "EOX2hzzCjpgP"
      },
      "source": [
        "**Objectives:**\n",
        "List popular languages for Data Science.\n",
        "- Python\n",
        "- SQL\n",
        "- R"
      ]
    },
    {
      "cell_type": "markdown",
      "metadata": {
        "id": "hTU6W97gjpgP"
      },
      "source": [
        "## Author"
      ]
    },
    {
      "cell_type": "markdown",
      "metadata": {
        "id": "Pka9PH8MjpgQ"
      },
      "source": [
        "name : Yu-An, Chen"
      ]
    },
    {
      "cell_type": "code",
      "execution_count": null,
      "metadata": {
        "id": "LudoateYjpgQ"
      },
      "outputs": [],
      "source": []
    }
  ],
  "metadata": {
    "kernelspec": {
      "display_name": "Python 3.10",
      "language": "python",
      "name": "python3"
    },
    "language_info": {
      "codemirror_mode": {
        "name": "ipython",
        "version": 3
      },
      "file_extension": ".py",
      "mimetype": "text/x-python",
      "name": "python",
      "nbconvert_exporter": "python",
      "pygments_lexer": "ipython3",
      "version": "3.10.6"
    },
    "colab": {
      "provenance": []
    }
  },
  "nbformat": 4,
  "nbformat_minor": 0
}